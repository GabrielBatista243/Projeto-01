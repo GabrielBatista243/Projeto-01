{
 "cells": [
  {
   "cell_type": "code",
   "execution_count": 31,
   "metadata": {},
   "outputs": [
    {
     "name": "stdout",
     "output_type": "stream",
     "text": [
      "10\n"
     ]
    }
   ],
   "source": [
    "caixa1 = int(input('Informe o numero: '))\n",
    "caixa2 = input('Informe o sinal: ')\n",
    "caixa3 = int(input('Informe o segundo numero: '))\n",
    "\n",
    "if '+' in caixa2:\n",
    "    caixa4 = caixa1 + caixa3\n",
    "    print(caixa4)\n",
    "elif '-' in caixa2:\n",
    "    caixa4 = caixa1 - caixa3\n",
    "    print(caixa4)\n",
    "elif '*' in caixa2:\n",
    "    caixa4 = caixa1 * caixa3\n",
    "    print(caixa4)\n",
    "elif '/' in caixa2:\n",
    "    caixa4 = caixa1 / caixa3\n",
    "    print(caixa4)\n",
    "else:\n",
    "    print('preencha corretamente o campo')"
   ]
  }
 ],
 "metadata": {
  "kernelspec": {
   "display_name": "Python 3",
   "language": "python",
   "name": "python3"
  },
  "language_info": {
   "codemirror_mode": {
    "name": "ipython",
    "version": 3
   },
   "file_extension": ".py",
   "mimetype": "text/x-python",
   "name": "python",
   "nbconvert_exporter": "python",
   "pygments_lexer": "ipython3",
   "version": "3.11.7"
  }
 },
 "nbformat": 4,
 "nbformat_minor": 2
}
